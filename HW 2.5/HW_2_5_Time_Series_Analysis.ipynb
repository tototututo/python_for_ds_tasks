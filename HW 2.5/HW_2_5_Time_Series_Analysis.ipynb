{
  "nbformat": 4,
  "nbformat_minor": 0,
  "metadata": {
    "colab": {
      "provenance": []
    },
    "kernelspec": {
      "name": "python3",
      "display_name": "Python 3"
    },
    "language_info": {
      "name": "python"
    }
  },
  "cells": [
    {
      "cell_type": "markdown",
      "source": [
        "У цьому ДЗ ми попрактикуємось моделювати часові ряди на даних з [Store Item Demand Forecasting Challenge](https://www.kaggle.com/competitions/demand-forecasting-kernels-only/overview). Ми будемо працювати лише з тренувальними даними цього змагання і задача у нас буде дещо змінена. Фокус буде на пошуці найкращої моделі, експериментах і використанні функціоналу `darts`.\n",
        "\n",
        "Якщо якісно попрацювати в цьому завданні - це буде чудовий приклад проєкту для вашого портфоліо: \"спрогнозував(-ла) поденні продажі на 1 міс для 50 товарів в 10 магазинах\" звучить вражаюче! Але ми в рамках ДЗ для оптимізації часу сконцентруємось на моделюванні продажів одного товару в одному магазині.\n",
        "\n",
        "**Задача**\n",
        "\n",
        "Вам надано дані про продажі товарів у магазинах за 5 років. Хочемо навчитись передачати продажі в наступному місяці поденно кожного з 50 товарів у кожному з 10 магазинів. Відповідно будемо проводити експерименти, аби знайти найкращу модель для цього.\n",
        "\n",
        "На відміну від змагання, ми будемо використовувати метрику МАРЕ (Mean Absolute Percentage Error) замість SMAPE (Symmetric Mean Absolute Percentage Error). Проте, ви також можете розрахувати SMAPE і подати свої результати через late submission на Kaggle."
      ],
      "metadata": {
        "id": "JowGjuLdN81P"
      }
    },
    {
      "cell_type": "markdown",
      "source": [
        "1. Завантажуємо дані в Pandas.\n",
        "\n",
        "  1. Завантажте дані з файлу `train.csv.zip` за допомогою бібліотеки Pandas.\n",
        "  2. Перетворіть колонку `date` на формат `datetime`.\n",
        "  3. Встановіть колонку `date` як індекс для датафрейму.\n",
        "  4. Виведіть перші 10 рядків отриманого датафрейму та інформацію про датафрейм."
      ],
      "metadata": {
        "id": "TOrwetV9VhQ8"
      }
    },
    {
      "cell_type": "code",
      "source": [
        "import pandas as pd\n",
        "import matplotlib.pyplot as plt\n",
        "import seaborn as sns\n",
        "import plotly.express as px\n",
        "import statsmodels.api as sm\n",
        "import darts\n",
        "from darts import TimeSeries\n",
        "from darts.utils.statistics import check_seasonality\n",
        "from darts.models import NaiveSeasonal, NaiveDrift\n",
        "from darts.metrics import mape\n",
        "from darts.models import XGBModel\n",
        "from darts.utils.timeseries_generation import datetime_attribute_timeseries\n",
        "from darts.models import ExponentialSmoothing\n"
      ],
      "metadata": {
        "id": "Ea1Nbt0BLG4Z"
      },
      "execution_count": null,
      "outputs": []
    },
    {
      "cell_type": "code",
      "source": [
        "df = pd.read_csv('train.csv.zip', parse_dates=['date'], index_col='date')"
      ],
      "metadata": {
        "id": "iw0r0C_pweIt"
      },
      "execution_count": null,
      "outputs": []
    },
    {
      "cell_type": "code",
      "source": [
        "df.head(10)"
      ],
      "metadata": {
        "id": "JVycHW61woK3"
      },
      "execution_count": null,
      "outputs": []
    },
    {
      "cell_type": "code",
      "source": [
        "df.info()"
      ],
      "metadata": {
        "id": "hg4rOAK9wxJH"
      },
      "execution_count": null,
      "outputs": []
    },
    {
      "cell_type": "markdown",
      "source": [
        "  2. Давайте трошки зрозуміємо дані. У нас 10 магазинів і 50 айтемів в кожному. Хочемо зрозуміти, чи відрізняється динаміка по кожному айтему в магазинах. Як би ви це візуалізували? Побудуйте 3 графіка, які вам допоможуть. Можна використати будь-який інструмент: matplotlib, seaborn, plotly.\n",
        "\n",
        "  Напишіть висновок з побудованих вами візуалізацій.\n",
        "  \n",
        "    **Підказка**: я б спробувала вивести середнє значення і довірчий інтервал (який включає весь діапазон значень з різних магазинів) для динаміки кожного айтема, або принаймні для декількох айтемів, аби зрозуміти тенденцію.\n",
        "\n"
      ],
      "metadata": {
        "id": "gSw_jvd2WCvb"
      }
    },
    {
      "cell_type": "code",
      "source": [
        "monthly_sales = df.groupby([pd.Grouper(freq='M'), 'item'])['sales'].mean().reset_index()\n",
        "\n",
        "selected_items = [1, 10, 20, 30, 40, 50]\n",
        "filtered_monthly_sales = monthly_sales[monthly_sales['item'].isin(selected_items)]\n",
        "\n",
        "fig = px.line(\n",
        "    filtered_monthly_sales,\n",
        "    x='date',\n",
        "    y='sales',\n",
        "    color='item',\n",
        "    title='Динаміка щомісячних продажів для обраних товарів',\n",
        "    labels={'date': 'Дата', 'sales': 'Середні продажі', 'item': 'Товар'}\n",
        ")\n",
        "\n",
        "fig.update_layout(\n",
        "    xaxis_title_text='Дата',\n",
        "    yaxis_title_text='Середні продажі',\n",
        "    legend_title_text='Товар',\n",
        "    hovermode='x unified'\n",
        ")\n",
        "\n",
        "fig.show()"
      ],
      "metadata": {
        "id": "1XQlg4Ox0j_7"
      },
      "execution_count": null,
      "outputs": []
    },
    {
      "cell_type": "code",
      "source": [
        "monthly_item_sales = df.groupby([pd.Grouper(freq='M'), 'item'])['sales'].mean().unstack()\n",
        "\n",
        "plt.figure(figsize=(15, 7))\n",
        "monthly_item_sales[[1, 10, 20]].plot(ax=plt.gca())\n",
        "plt.title('Середні щомісячні продажі для обраних товарів')\n",
        "plt.xlabel('Дата')\n",
        "plt.ylabel('Середні продажі')\n",
        "plt.legend(title='Товар')\n",
        "plt.grid(True, linestyle='--')\n",
        "plt.show()"
      ],
      "metadata": {
        "id": "vCL0cHXKzOCj"
      },
      "execution_count": null,
      "outputs": []
    },
    {
      "cell_type": "code",
      "source": [
        "total_sales_by_item = df.groupby('item')['sales'].sum()\n",
        "top_5_items = total_sales_by_item.nlargest(5).index.tolist()\n",
        "\n",
        "top_5_df = df[df['item'].isin(top_5_items)]\n",
        "monthly_top_5_sales = top_5_df.groupby([pd.Grouper(freq='M'), 'item'])['sales'].sum().reset_index()\n",
        "\n",
        "fig = px.line(\n",
        "    monthly_top_5_sales,\n",
        "    x='date',\n",
        "    y='sales',\n",
        "    color='item',\n",
        "    title='Динаміка щомісячних продажів для 5 найбільш популярних товарів',\n",
        "    labels={'date': 'Дата', 'sales': 'Продажі', 'item': 'Товар'}\n",
        ")\n",
        "\n",
        "fig.update_layout(\n",
        "    xaxis_title_text='Дата',\n",
        "    yaxis_title_text='Загальні продажі',\n",
        "    legend_title_text='Товар',\n",
        "    hovermode='x unified'\n",
        ")\n",
        "\n",
        "fig.show()"
      ],
      "metadata": {
        "id": "sMWmGqZoZf0J"
      },
      "execution_count": null,
      "outputs": []
    },
    {
      "cell_type": "code",
      "source": [
        "df['weekday'] = df.index.day_name()\n",
        "df['month'] = df.index.month_name()\n",
        "\n",
        "sales_by_weekday = df.groupby('weekday')['sales'].mean().reindex(['Monday', 'Tuesday', 'Wednesday', 'Thursday', 'Friday', 'Saturday', 'Sunday'])\n",
        "\n",
        "plt.figure(figsize=(10, 6))\n",
        "sns.barplot(x=sales_by_weekday.index, y=sales_by_weekday.values, palette='viridis')\n",
        "plt.title('Середні продажі за днями тижня')\n",
        "plt.xlabel('День тижня')\n",
        "plt.ylabel('Середні продажі')\n",
        "plt.grid(axis='y', linestyle='--')\n",
        "plt.show()"
      ],
      "metadata": {
        "id": "Fl4feJHBzeU3"
      },
      "execution_count": null,
      "outputs": []
    },
    {
      "cell_type": "code",
      "source": [
        "sales_by_month = df.groupby('month')['sales'].mean().reindex(['January', 'February', 'March', 'April', 'May', 'June', 'July', 'August', 'September', 'October', 'November', 'December'])\n",
        "plt.figure(figsize=(10, 6))\n",
        "sns.barplot(x=sales_by_month.index, y=sales_by_month.values, palette='viridis')\n",
        "plt.title('Середні продажі за місяцями')\n",
        "plt.xlabel('Місяць')\n",
        "plt.ylabel('Середні продажі')\n",
        "plt.grid(axis='y', linestyle='--')\n",
        "plt.show()"
      ],
      "metadata": {
        "id": "ozzX83PqXhR3"
      },
      "execution_count": null,
      "outputs": []
    },
    {
      "cell_type": "code",
      "source": [
        "plt.figure(figsize=(15, 7))\n",
        "sns.boxplot(x='store', y='sales', data=df)\n",
        "plt.title('Розподіл продажів по магазинах')\n",
        "plt.xlabel('Магазин')\n",
        "plt.ylabel('Продажі')\n",
        "plt.grid(axis='y', linestyle='--')\n",
        "plt.show()"
      ],
      "metadata": {
        "id": "kjVTwNVUzkNl"
      },
      "execution_count": null,
      "outputs": []
    },
    {
      "cell_type": "markdown",
      "source": [
        "**Висновки**\n",
        "\n",
        "На вищепобудованих графіках ми можемо спостерігати наступне:\n",
        "\n",
        "- **Сильна сезонність**: На графіках щомісячних продажів чітко видно виражену сезонність. Продажі стабільно зростають з весни до літа, досягаючи піку в липні, а потім знижуються до кінця року, з мінімумом у грудні та січні. Ця закономірність спостерігається з року в рік, що вказує на сильний вплив сезонних факторів.\n",
        "\n",
        "- **Вплив днів тижня**: Бар-чарт середніх продажів за днями тижня демонструє, що продажі значно відрізняються залежно від дня. Найвищі продажі припадають на вихідні дні (суботу та неділю), тоді як у понеділок і вівторок вони найнижчі. Це логічно, оскільки люди частіше роблять покупки у вільний від роботи час.\n",
        "\n",
        "- **Взаємозалежність товарів**: Графік щомісячних продажів для різних товарів демонструє, що всі товари мають схожий сезонний патерн. Коли продажі одного товару зростають, продажі інших також демонструють зростання, і навпаки. Це означає, що зовнішні фактори, такі як свята чи сезон, впливають на продажі всіх товарів одночасно. Це важливий інсайт, який можна використати при побудові моделі.\n",
        "\n",
        "- **Стабільність лідерів**: Незважаючи на коливання, співвідношення продажів між цими товарами залишається досить стабільним. Наприклад, товар №28 постійно демонструє найвищі показники продажів, а товар №13 — найнижчі з п'яти представлених. Це говорить про те, що позиції лідерів ринку в цій групі товарів не змінюються протягом досліджуваного періоду.\n",
        "\n",
        "- **Різниця між магазинами**: Діаграма box plot показує, що середній рівень продажів і їх волатильність значно відрізняються між магазинами. Наприклад, магазин №2 та №8 мають значно вищі середжні продажі та більший розкид, ніж, наприклад, магазин №7. Це свідчить про те, що магазини мають різний потенціал і динаміку, і для точного прогнозування їх потрібно аналізувати окремо.\n",
        "\n"
      ],
      "metadata": {
        "id": "Xd0zpAx6Z2k-"
      }
    },
    {
      "cell_type": "markdown",
      "source": [
        "3. **Для початку проаналізуємо лише один ряд, а далі зможемо зациклити тренування моделей.**\n",
        "  \n",
        "  Виберіть підмножину даних, що відповідає продажам товару з `item == 1` у магазині з `store == 1`.\n",
        "\n",
        "  Зробіть декомпозицію цього рядку за адитивною моделлю на тренд, сезонність і залишки з бібліотекою `statsmodels`.\n",
        "\n",
        "  Зробіть висновки з отриманих візуалізацій. Чи щось би могло вам допомогти ліпше зрозуміти ці візуалізації? (з точки зору обробки даних)"
      ],
      "metadata": {
        "id": "qEKWxGKlVr2T"
      }
    },
    {
      "cell_type": "code",
      "source": [
        "ts = df[(df['store'] == 1) & (df['item'] == 1)]['sales']\n",
        "\n",
        "# Тижнева сезонність\n",
        "decomposition = sm.tsa.seasonal_decompose(ts, model='additive', period=7)\n",
        "\n",
        "fig = decomposition.plot()\n",
        "fig.set_size_inches(15, 8)\n",
        "plt.show()"
      ],
      "metadata": {
        "id": "vfJQeSm2LMUa"
      },
      "execution_count": null,
      "outputs": []
    },
    {
      "cell_type": "code",
      "source": [
        "monthly_ts = ts.resample('M').mean()\n",
        "\n",
        "# Місячна сезонність\n",
        "decomposition = sm.tsa.seasonal_decompose(monthly_ts, model='multiplicative', period=12)\n",
        "\n",
        "fig = decomposition.plot()\n",
        "fig.set_size_inches(15, 8)\n",
        "plt.show()"
      ],
      "metadata": {
        "id": "IWJIbg7dcr3k"
      },
      "execution_count": null,
      "outputs": []
    },
    {
      "cell_type": "markdown",
      "source": [
        "**Висновки**\n",
        "\n",
        "Графік 1: Тижнева сезонність (щоденні дані).\n",
        "\n",
        "- Тренд: На графіку тренду видно, що продажі мають загальну тенденцію до зростання протягом усього 5-річного періоду. Однак, тренд не є монотонно зростаючим — він має певні коливання, які вказують на більш складні довгострокові закономірності (можливо, річну сезонність).\n",
        "\n",
        "- Сезонність: Графік сезонності чітко показує сильний тижневий цикл. Ми бачимо повторювані патерни з високими продажами у вихідні та низькими в будні. Це підтверджує, що день тижня є критично важливим фактором для прогнозування.\n",
        "\n",
        "- Залишки: Залишки здаються хаотичними і розподілені навколо нуля, що свідчить про те, що модель добре впоралася з виділенням тренду та тижневої сезонності. Однак, деякі \"викиди\" можуть свідчити про вплив зовнішніх подій, таких як свята.\n",
        "\n",
        "Графік 2: Місячна сезонність (щомісячні дані).\n",
        "\n",
        "- Тренд: На цьому графіку є набагато більш згладженим і чітко показує монотонне зростання продажів протягом 5 років. Це є більш точним відображенням довгострокової тенденції, оскільки щомісячна агрегація усуває щоденний шум.\n",
        "\n",
        "- Сезонність: Графік сезонності підтверджує сильний річний цикл. Видно, що продажі зростають з січня до липня, а потім падають до грудня. Цей патерн є дуже послідовним протягом кожного року.\n",
        "\n",
        "- Залишки: Залишки здаються добре розподіленими і не мають очевидних патернів, що свідчить про те, що мультиплікативна модель добре підійшла для декомпозиції.\n",
        "\n"
      ],
      "metadata": {
        "id": "D3jXwM1SdlGJ"
      }
    },
    {
      "cell_type": "markdown",
      "source": [
        "4. Зі створеної підможени даних в попередньому пункті створіть обʼєкт класу `TimeSeries` в `darts` лише для колонки `sales`."
      ],
      "metadata": {
        "id": "r8GwI9USb69x"
      }
    },
    {
      "cell_type": "code",
      "source": [
        "series = TimeSeries.from_series(ts)"
      ],
      "metadata": {
        "id": "V88Hh4R4LNIz"
      },
      "execution_count": null,
      "outputs": []
    },
    {
      "cell_type": "markdown",
      "source": [
        "5. Використовуючи метод `series.split_before` розбийте дані на тренування і валідацію так, аби валідація починалась з `2017-10-01` включно.\n",
        "\n",
        "  Візуалізуйте на одному графіку тренувальну і валідаційну частину як було показано в лекції."
      ],
      "metadata": {
        "id": "fdazrckIaUJt"
      }
    },
    {
      "cell_type": "code",
      "source": [
        "train, val = series.split_before(pd.Timestamp('2017-10-01'))\n",
        "\n",
        "train.plot(label=\"training\")\n",
        "val.plot(label=\"validation\")"
      ],
      "metadata": {
        "id": "hSdLhW7uLNwi"
      },
      "execution_count": null,
      "outputs": []
    },
    {
      "cell_type": "markdown",
      "source": [
        "6. Побудуйте часткову автокореляційну фукнцію для цього нашого ряду в `series`. Напишіть висновки - які лаги є важливими для прогнозування?"
      ],
      "metadata": {
        "id": "FCDyi3lNa1_3"
      }
    },
    {
      "cell_type": "code",
      "source": [
        "ts_pandas = pd.Series(series.values().flatten(), index=series.time_index)"
      ],
      "metadata": {
        "id": "NiUFHxDukyXD"
      },
      "execution_count": null,
      "outputs": []
    },
    {
      "cell_type": "code",
      "source": [
        "fig, ax = plt.subplots(figsize=(15, 6))\n",
        "sm.graphics.tsa.plot_pacf(ts_pandas, lags=50, ax=ax)\n",
        "plt.title('Часткова автокореляційна функція (PACF)')\n",
        "plt.xlabel('Лаг')\n",
        "plt.ylabel('PACF')\n",
        "plt.grid(True, linestyle='--')\n",
        "plt.show()"
      ],
      "metadata": {
        "id": "WJ897gUDh8S0"
      },
      "execution_count": null,
      "outputs": []
    },
    {
      "cell_type": "markdown",
      "source": [
        "**Спостереження**\n",
        "\n",
        "На отриманому графіку PACF можна виділити наступні ключові моменти:\n",
        "\n",
        "- **Лаг 1** є найбільшим і виходить далеко за межі довірчого інтервалу. Це свідчить про сильну позитивну кореляцію. Це означає, що продажі сьогодні мають дуже сильний прямий зв'язок з продажами попереднього дня. Це цілком очікувано для часових рядів.\n",
        "\n",
        "- **Лаг 7** є другим за значущістю і також виходить за межі довірчого інтервалу. Це підтверджує, що продажі сьогодні мають прямий і важливий зв'язок з продажами тиждень тому (у той самий день тижня). Це є яскравим свідченням сильної тижневої сезонності, яку ми вже бачили на попередніх графіках.\n",
        "\n",
        "- **Лаг 14, 21, ...** на графіку видно менші, але все ще помітні сплески на лагах, кратних 7 (наприклад, 14, 21, 28, 35, 42). Це свідчить, що вплив тижневої закономірності продовжується на кілька тижнів вперед.\n",
        "\n",
        "- Є також декілька інших лагів, які трохи виходять за межі довірчого інтервалу, наприклад, біля лагу 20 і 30. Вони можуть вказувати на інші, менш виражені, але все ще значущі патерни.\n",
        "\n",
        "**Висновки**\n",
        "\n",
        "- **Найважливіші ознаки**: Для прогнозування продажів сьогоднішнього дня, найважливішими предикторами будуть продажі попереднього дня (лаг 1) та продажі тиждень тому (лаг 7).\n",
        "\n",
        "- **Тижнева сезонність**: Графік однозначно підтверджує наявність сильної тижневої сезонності. Будь-яка модель прогнозування повинна враховувати цей фактор."
      ],
      "metadata": {
        "id": "QP92Z6D5lsCN"
      }
    },
    {
      "cell_type": "markdown",
      "source": [
        "7. Виявіть сезональність тренувального ряду використовуючи фукнкцію `check_seasonality` з `darts`."
      ],
      "metadata": {
        "id": "rlGfs2gnbXFn"
      }
    },
    {
      "cell_type": "code",
      "source": [
        "is_weekly_seasonal = check_seasonality(train, m=7, max_lag=200, alpha=0.05)\n",
        "print(f\"Чи є тижнева сезонність? {is_weekly_seasonal}\")\n",
        "\n",
        "is_yearly_seasonal = check_seasonality(train, m=365, max_lag=2000, alpha=0.05)\n",
        "print(f\"Чи є річна сезонність? {is_yearly_seasonal}\")"
      ],
      "metadata": {
        "id": "DG67fnxkLO1d"
      },
      "execution_count": null,
      "outputs": []
    },
    {
      "cell_type": "markdown",
      "source": [
        "8. Побудуйте наївну модель NaiveSeasonal + NaieDrift для прогнозування даних. Кількість кроків для прогнозування визначіть зі свого аналізу в попередніх пунктах. Візуалізайте передбачення проти справжніх даних так, аби було видно якість передбачень. Зробіть висновок про модель. Вона точна?\n",
        "\n",
        "  Якщо у вас є ідеї, як поліпшити якість передбачення саме наївними моделями - реалізуйте їх в цьому пункті :)"
      ],
      "metadata": {
        "id": "vTAzPIh-bmrj"
      }
    },
    {
      "cell_type": "code",
      "source": [
        "# Модель NaiveSeasonal (період = 7)\n",
        "seasonal_model = NaiveSeasonal(K=7)\n",
        "seasonal_model.fit(train)\n",
        "\n",
        "seasonal_forecast = seasonal_model.predict(len(val))\n",
        "\n",
        "# Модель NaiveDrift\n",
        "drift_model = NaiveDrift()\n",
        "drift_model.fit(train)\n",
        "\n",
        "drift_forecast = drift_model.predict(len(val))"
      ],
      "metadata": {
        "id": "0psfyEYPLPgv"
      },
      "execution_count": null,
      "outputs": []
    },
    {
      "cell_type": "code",
      "source": [
        "plt.figure(figsize=(15, 7))\n",
        "\n",
        "train.tail(30).plot(label=\"Останні тренувальні дані\", color='black')\n",
        "\n",
        "val.plot(label=\"Валідаційні дані (справжні)\", color='blue', linewidth=2)\n",
        "seasonal_forecast.plot(label=\"Прогноз NaiveSeasonal\", color='magenta', linestyle='--', linewidth=2)\n",
        "drift_forecast.plot(label=\"Прогноз NaiveDrift\", color='cyan', linestyle=':', linewidth=2)\n",
        "\n",
        "plt.title('Прогнозування продажів за допомогою наївних моделей')\n",
        "plt.xlabel('Дата')\n",
        "plt.ylabel('Продажі')\n",
        "plt.legend()\n",
        "plt.grid(True, linestyle='--', alpha=0.6)\n",
        "plt.show()"
      ],
      "metadata": {
        "id": "573fAhMbpdpE"
      },
      "execution_count": null,
      "outputs": []
    },
    {
      "cell_type": "markdown",
      "source": [
        "**Висновок**\n",
        "\n",
        "Модель NaiveDrift: ця модель, представлена бірюзовою пунктирною лінією, є абсолютно неточною. Вона прогнозує пряму лінію з невеликим позитивним нахилом, повністю ігноруючи сильну тижневу сезонність, що присутня у валідаційних даних. Її прогноз є нерелевантним для цього набору даних.\n",
        "\n",
        "Модель NaiveSeasonal: Ця модель, представлена пурпурною пунктирною лінією, і є досить точною для простої наївної моделі. Вона успішно захоплює тижневий сезонний патерн, який є ключовим у цьому часовому ряді. Ми можемо бачити, що її прогнозні піки та спади збігаються з піками та спадами справжніх даних (синя лінія). Це свідчить про те, що сезонність є найважливішим фактором для прогнозування."
      ],
      "metadata": {
        "id": "hNqkxk7Fqero"
      }
    },
    {
      "cell_type": "markdown",
      "source": [
        "9. Обчисліть помилку прогнозу на валідації наївною моделлю з mape. Далі для всіх моделей необхідно обчислювати помилку прогнозу на валідації."
      ],
      "metadata": {
        "id": "bBMrGdU3eoDN"
      }
    },
    {
      "cell_type": "code",
      "source": [
        "mape_error = mape(val, seasonal_forecast)\n",
        "\n",
        "print(f\"Помилка MAPE для моделі NaiveSeasonal: {mape_error:.2f}%\")"
      ],
      "metadata": {
        "id": "I4Wcos1aLRiX"
      },
      "execution_count": null,
      "outputs": []
    },
    {
      "cell_type": "markdown",
      "source": [
        "10. Натренуйте XBGModel з `darts` для передбачення наших даних. Можна додавати всі додаткові ознаки, які вважаєте за потрібне, наприклад, ознаки з дати. Зробіть висновок про якість моделі."
      ],
      "metadata": {
        "id": "sKHQPJyvfZMj"
      }
    },
    {
      "cell_type": "code",
      "source": [
        "day_of_week = datetime_attribute_timeseries(train, attribute='dayofweek', one_hot=True)\n",
        "val_day_of_week = datetime_attribute_timeseries(val, attribute='dayofweek', one_hot=True)\n",
        "\n",
        "month_of_year = datetime_attribute_timeseries(train, attribute='month', one_hot=True)\n",
        "val_month_of_year = datetime_attribute_timeseries(val, attribute='month', one_hot=True)\n",
        "\n",
        "day_of_year = datetime_attribute_timeseries(train, attribute='dayofyear')\n",
        "val_day_of_year = datetime_attribute_timeseries(val, attribute='dayofyear')"
      ],
      "metadata": {
        "id": "bhpacFVlLTow"
      },
      "execution_count": null,
      "outputs": []
    },
    {
      "cell_type": "code",
      "source": [
        "xgb_model = XGBModel(lags=14, lags_future_covariates=[0])\n",
        "\n",
        "xgb_model.fit(train,future_covariates=day_of_week.stack(month_of_year).stack(day_of_year))\n",
        "\n",
        "xgb_forecast = xgb_model.predict(\n",
        "    n=len(val),\n",
        "    future_covariates=val_day_of_week.stack(val_month_of_year).stack(val_day_of_year)\n",
        ")"
      ],
      "metadata": {
        "id": "wWs6xNCHtQDF"
      },
      "execution_count": null,
      "outputs": []
    },
    {
      "cell_type": "code",
      "source": [
        "mape_error = mape(val, xgb_forecast)\n",
        "print(f\"Помилка MAPE для моделі XGBoost: {mape_error:.2f}%\")"
      ],
      "metadata": {
        "id": "OacEEV18tavQ"
      },
      "execution_count": null,
      "outputs": []
    },
    {
      "cell_type": "code",
      "source": [
        "plt.figure(figsize=(15, 7))\n",
        "\n",
        "train.tail(30).plot(label=\"Останні тренувальні дані\", color='black')\n",
        "\n",
        "val.plot(label=\"Валідаційні дані (справжні)\", color='blue', linewidth=2)\n",
        "xgb_forecast.plot(label=\"Прогноз XGBoost\", color='magenta', linestyle='--', linewidth=2)\n",
        "\n",
        "plt.title('Прогнозування продажів за допомогою наївних моделей')\n",
        "plt.xlabel('Дата')\n",
        "plt.ylabel('Продажі')\n",
        "plt.legend()\n",
        "plt.grid(True, linestyle='--', alpha=0.6)\n",
        "plt.show()"
      ],
      "metadata": {
        "id": "SXKvjdLnunH3"
      },
      "execution_count": null,
      "outputs": []
    },
    {
      "cell_type": "markdown",
      "source": [
        "**Висновки**\n",
        "\n",
        "- Спростерігається значне покращення порівняно з наївною моделлю: Помилка MAPE знизилася з 38.17% до 24.50%. Це є значним покращенням і доводить, що модель XGBoost, завдяки врахуванню додаткових ознак, є значно точнішою.\n",
        "\n",
        "- На графіку видно, що прогноз XGBoost не тільки повторює тижневі коливання, але й більш точно слідує за загальним трендом валідаційного періоду. Модель навчилася, що продажі в жовтні-листопаді мають тенденцію до зниження, і врахувала це у своєму прогнозі. Наївні моделі цього зробити не могли."
      ],
      "metadata": {
        "id": "IcIkViiQvLTt"
      }
    },
    {
      "cell_type": "markdown",
      "source": [
        "11. Натренуйте модель ExponentialSmoothing та зробіть висновок про її якість."
      ],
      "metadata": {
        "id": "ED9yK-oJgyer"
      }
    },
    {
      "cell_type": "code",
      "source": [
        "from darts.utils.utils import TrendMode, SeasonalityMode\n",
        "from darts.utils.utils import ModelMode"
      ],
      "metadata": {
        "id": "ug6Wc2dZwKtb"
      },
      "execution_count": null,
      "outputs": []
    },
    {
      "cell_type": "code",
      "source": [
        "exp_smoothing_model = ExponentialSmoothing(\n",
        "    trend=ModelMode.ADDITIVE,\n",
        "    seasonal=ModelMode.ADDITIVE,\n",
        "    seasonal_periods=7,\n",
        "    damped=True\n",
        ")\n",
        "exp_smoothing_model.fit(train)\n",
        "exp_smoothing_forecast = exp_smoothing_model.predict(len(val))"
      ],
      "metadata": {
        "id": "Z28N-uehLUlO"
      },
      "execution_count": null,
      "outputs": []
    },
    {
      "cell_type": "code",
      "source": [
        "mape_error = mape(val, exp_smoothing_forecast)\n",
        "print(f\"Помилка MAPE для моделі ExponentialSmoothing: {mape_error:.2f}%\")"
      ],
      "metadata": {
        "id": "Pxzbj_m7wdMK"
      },
      "execution_count": null,
      "outputs": []
    },
    {
      "cell_type": "code",
      "source": [
        "plt.figure(figsize=(15, 7))\n",
        "\n",
        "train.tail(30).plot(label=\"Останні тренувальні дані\", color='black')\n",
        "\n",
        "val.plot(label=\"Валідаційні дані (справжні)\", color='blue', linewidth=2)\n",
        "exp_smoothing_forecast.plot(label=\"Прогноз ExponentialSmoothing\", color='magenta', linestyle='--', linewidth=2)\n",
        "\n",
        "plt.title('Прогнозування продажів за допомогою наївних моделей')\n",
        "plt.xlabel('Дата')\n",
        "plt.ylabel('Продажі')\n",
        "plt.legend()\n",
        "plt.grid(True, linestyle='--', alpha=0.6)\n",
        "plt.show()"
      ],
      "metadata": {
        "id": "CiNOw83hw0af"
      },
      "execution_count": null,
      "outputs": []
    },
    {
      "cell_type": "markdown",
      "source": [
        "**Висновок**\n",
        "\n",
        "Помилка MAPE для моделі ExponentialSmoothing становить 36.65%, що все ще гірше, ніж у наївної моделі. Це свідчить про те що або я щось наплутала, або модель не змогла повністю перевершити простоту і силу наївного прогнозування на цих даних.\n",
        "\n",
        "Якщо правильно зрозуміла ExponentialSmoothing модель добре працює з даними, що мають стабільний тренд і сезонність, але може бути менш ефективною, коли патерни змінюються або є непередбачувані сплески. Вона не може враховувати зовнішні фактори, як це робить XGBoost. І так як модель XGBoost змогла показати кращі результати (24.50% MAPE). Це підкреслює, що для цих даних зовнішні ознаки, такі як день тижня та місяць, є критично важливими для отримання точного прогнозу.\n",
        "\n",
        "Або треба припинити виконання домашнього завдання вночі))"
      ],
      "metadata": {
        "id": "b7l0dtRQyEAx"
      }
    },
    {
      "cell_type": "markdown",
      "source": [
        "12. Натренуйте модель ARIMA, параметри оберіть самостійно.Зробіть висновок про її якість."
      ],
      "metadata": {
        "id": "iMAxcHd9Dug2"
      }
    },
    {
      "cell_type": "code",
      "source": [
        "from darts.models import ARIMA"
      ],
      "metadata": {
        "id": "pdmoaUwbLVF1"
      },
      "execution_count": null,
      "outputs": []
    },
    {
      "cell_type": "code",
      "source": [
        "# Параметри p, d, q\n",
        "p_param = 7\n",
        "d_param = 1\n",
        "q_param = 1"
      ],
      "metadata": {
        "id": "mcWpqPc8y25E"
      },
      "execution_count": null,
      "outputs": []
    },
    {
      "cell_type": "code",
      "source": [
        "arima_model = ARIMA(p=p_param, d=d_param, q=q_param)\n",
        "arima_model.fit(train)"
      ],
      "metadata": {
        "id": "4jnPFez4zLrw"
      },
      "execution_count": null,
      "outputs": []
    },
    {
      "cell_type": "code",
      "source": [
        "arima_forecast = arima_model.predict(len(val))"
      ],
      "metadata": {
        "id": "RI0C0JuyzaZP"
      },
      "execution_count": null,
      "outputs": []
    },
    {
      "cell_type": "code",
      "source": [
        "mape_error = mape(val, arima_forecast)\n",
        "print(f\"Помилка MAPE для моделі ARIMA: {mape_error:.2f}%\")"
      ],
      "metadata": {
        "id": "2a9hfvnNzc-q"
      },
      "execution_count": null,
      "outputs": []
    },
    {
      "cell_type": "code",
      "source": [
        "plt.figure(figsize=(15, 7))\n",
        "\n",
        "train.tail(30).plot(label=\"Останні тренувальні дані\", color='black')\n",
        "\n",
        "val.plot(label=\"Валідаційні дані (справжні)\", color='blue', linewidth=2)\n",
        "arima_forecast.plot(label=\"Прогноз ARIMA\", color='magenta', linestyle='--', linewidth=2)\n",
        "\n",
        "plt.title('Прогнозування продажів за допомогою наївних моделей')\n",
        "plt.xlabel('Дата')\n",
        "plt.ylabel('Продажі')\n",
        "plt.legend()\n",
        "plt.grid(True, linestyle='--', alpha=0.6)\n",
        "plt.show()"
      ],
      "metadata": {
        "id": "eCxdLHDTzf7t"
      },
      "execution_count": null,
      "outputs": []
    },
    {
      "cell_type": "markdown",
      "source": [
        "**Висновки**\n",
        "\n",
        "Отриманий результат показує, що модель ARIMA з обраними параметрами є неточною. Помилка MAPE для цієї моделі становить 39.53%, що є найгіршим показником серед усіх протестованих моделей."
      ],
      "metadata": {
        "id": "iavXR1uezzyn"
      }
    },
    {
      "cell_type": "markdown",
      "source": [
        "13. Знайдіть оптимальні параметри моделі ARIMA з допомогою AutoARIMA моделі. Виконайте пошук параметрів, виведіть, які паарметри виявились оптимальними і обчисліть якість моделі. Чи поліпшилась якість порівняно з попереднім експериментом?"
      ],
      "metadata": {
        "id": "nD-DN96ZD3GX"
      }
    },
    {
      "cell_type": "code",
      "source": [
        "from darts.utils.statistics import plot_acf, plot_pacf\n",
        "from darts.utils.utils import ModelMode"
      ],
      "metadata": {
        "id": "9JdklGCPLW7u"
      },
      "execution_count": null,
      "outputs": []
    },
    {
      "cell_type": "code",
      "source": [
        "auto_arima_model = ARIMA()\n",
        "\n",
        "auto_arima_model.fit(train)"
      ],
      "metadata": {
        "id": "p3VVO8vD0WEa"
      },
      "execution_count": null,
      "outputs": []
    },
    {
      "cell_type": "code",
      "source": [
        "auto_arima_forecast = auto_arima_model.predict(len(val))"
      ],
      "metadata": {
        "id": "MCFkgMBA1Isx"
      },
      "execution_count": null,
      "outputs": []
    },
    {
      "cell_type": "code",
      "source": [
        "mape_error = mape(val, auto_arima_forecast)\n",
        "print(f\"Помилка MAPE для оптимізованої ARIMA: {mape_error:.2f}%\")"
      ],
      "metadata": {
        "id": "rPLuoDl-1Lab"
      },
      "execution_count": null,
      "outputs": []
    },
    {
      "cell_type": "code",
      "source": [
        "plt.figure(figsize=(15, 7))\n",
        "\n",
        "train.tail(30).plot(label=\"Останні тренувальні дані\", color='black')\n",
        "\n",
        "val.plot(label=\"Валідаційні дані (справжні)\", color='blue', linewidth=2)\n",
        "auto_arima_forecast.plot(label=\"Прогноз оптимізованої ARIMA\", color='magenta', linestyle='--', linewidth=2)\n",
        "\n",
        "plt.title('Прогнозування продажів за допомогою наївних моделей')\n",
        "plt.xlabel('Дата')\n",
        "plt.ylabel('Продажі')\n",
        "plt.legend()\n",
        "plt.grid(True, linestyle='--', alpha=0.6)\n",
        "plt.show()"
      ],
      "metadata": {
        "id": "zEis3Ste1SEA"
      },
      "execution_count": null,
      "outputs": []
    },
    {
      "cell_type": "markdown",
      "source": [
        "**Виснвовок**\n",
        "\n",
        "Результат з AutoARIMA показує, що, на жаль, якість прогнозу не поліпшилася. Помилка MAPE для оптимізованої ARIMA становить 39.49%, що навіть трохи гірше, ніж результат нашої першої спроби (39.53%) і значно гірше, ніж у наївної моделі (38.17%)."
      ],
      "metadata": {
        "id": "Coy9-o8i1sEE"
      }
    },
    {
      "cell_type": "markdown",
      "source": [
        "14. Натренуйте модель Prophet та зробіть висновок про її якість."
      ],
      "metadata": {
        "id": "KY9HuSugFEy9"
      }
    },
    {
      "cell_type": "code",
      "source": [
        "from darts.models import Prophet"
      ],
      "metadata": {
        "id": "QaA8jUkeLX-q"
      },
      "execution_count": null,
      "outputs": []
    },
    {
      "cell_type": "code",
      "source": [
        "prophet_model = Prophet()\n",
        "prophet_model.fit(train)\n",
        "prophet_forecast = prophet_model.predict(len(val))\n"
      ],
      "metadata": {
        "id": "WWg_my7e1zw9"
      },
      "execution_count": null,
      "outputs": []
    },
    {
      "cell_type": "code",
      "source": [
        "mape_error = mape(val, prophet_forecast)\n",
        "print(f\"Помилка MAPE для моделі Prophet: {mape_error:.2f}%\")"
      ],
      "metadata": {
        "id": "aEhC1sep11Ko"
      },
      "execution_count": null,
      "outputs": []
    },
    {
      "cell_type": "code",
      "source": [
        "plt.figure(figsize=(15, 7))\n",
        "\n",
        "train.tail(30).plot(label=\"Останні тренувальні дані\", color='black')\n",
        "\n",
        "val.plot(label=\"Валідаційні дані (справжні)\", color='blue', linewidth=2)\n",
        "prophet_forecast.plot(label=\"Прогноз Prophet\", color='magenta', linestyle='--', linewidth=2)\n",
        "\n",
        "plt.title('Прогнозування продажів за допомогою наївних моделей')\n",
        "plt.xlabel('Дата')\n",
        "plt.ylabel('Продажі')\n",
        "plt.legend()\n",
        "plt.grid(True, linestyle='--', alpha=0.6)\n",
        "plt.show()"
      ],
      "metadata": {
        "id": "8sQ35Tse18SQ"
      },
      "execution_count": null,
      "outputs": []
    },
    {
      "cell_type": "markdown",
      "source": [
        "**Виснвовк**\n",
        "\n",
        "Prophet має MAPE 23.80%, що є найкращим результатом з усіх моделей, які на даний момент тестували. Це значно краще, ніж наївна модель (38.17%), ExponentialSmoothing (36.65%) та ARIMA (39.49%). Це навіть трохи краще, ніж у XGBoost (24.50%).\n",
        "\n",
        "На графіку видно, що прогноз Prophet доволі непогано повторює справжні валідаційні дані.\n"
      ],
      "metadata": {
        "id": "9p0DiAMF2C9b"
      }
    },
    {
      "cell_type": "markdown",
      "source": [
        "15. Натренуйте модель `RNNModel` та зробіть висновок про її якість."
      ],
      "metadata": {
        "id": "aR4VhvxHFVU_"
      }
    },
    {
      "cell_type": "code",
      "source": [
        "from darts.models import RNNModel"
      ],
      "metadata": {
        "id": "BLof1tTgLY75"
      },
      "execution_count": null,
      "outputs": []
    },
    {
      "cell_type": "code",
      "source": [
        "rnn_model = RNNModel(\n",
        "    model='RNN',\n",
        "    input_chunk_length=14,\n",
        "    output_chunk_length=len(val),\n",
        "    n_epochs=20,\n",
        "    optimizer_kwargs={'lr': 1e-3},\n",
        "    random_state=42,\n",
        "    log_tensorboard=True,\n",
        "    force_reset=True\n",
        ")\n",
        "\n",
        "rnn_model.fit(train, verbose=True)\n",
        "rnn_forecast = rnn_model.predict(len(val))"
      ],
      "metadata": {
        "id": "UX3OAcQG2mMf"
      },
      "execution_count": null,
      "outputs": []
    },
    {
      "cell_type": "code",
      "source": [
        "mape_error = mape(val, rnn_forecast)\n",
        "print(f\"Помилка MAPE для моделі RNN: {mape_error:.2f}%\")"
      ],
      "metadata": {
        "id": "yCstqwhV20Zi"
      },
      "execution_count": null,
      "outputs": []
    },
    {
      "cell_type": "code",
      "source": [
        "plt.figure(figsize=(15, 7))\n",
        "\n",
        "train.tail(30).plot(label=\"Останні тренувальні дані\", color='black')\n",
        "\n",
        "val.plot(label=\"Валідаційні дані (справжні)\", color='blue', linewidth=2)\n",
        "rnn_forecast.plot(label=\"Прогноз RNN\", color='magenta', linestyle='--', linewidth=2)\n",
        "\n",
        "plt.title('Прогнозування продажів за допомогою наївних моделей')\n",
        "plt.xlabel('Дата')\n",
        "plt.ylabel('Продажі')\n",
        "plt.legend()\n",
        "plt.grid(True, linestyle='--', alpha=0.6)\n",
        "plt.show()"
      ],
      "metadata": {
        "id": "5fYtIa1c29dd"
      },
      "execution_count": null,
      "outputs": []
    },
    {
      "cell_type": "markdown",
      "source": [
        "**Висновок**\n",
        "\n",
        "MAPE 27.17% свідчить про те, що RNNModel виявилася досить точною, але не перевершила Prophet (23.80%) або XGBoost (24.50%). Вона показала кращий результат, ніж наївна модель (38.17%) та ARIMA (39.49%).\n",
        "\n",
        "Але\n",
        "\n",
        "На графіку прогноз RNN (фіолетова пунктирна лінія) є майже прямою лінією, яка не захоплює тижневу сезонність. Можливо параметри були неоптимальні, або 20 епох все ж таки було недостатньо."
      ],
      "metadata": {
        "id": "j9oXxlRz3Lbl"
      }
    },
    {
      "cell_type": "markdown",
      "source": [
        "16. Виконайте бектест для тої моделі, яка виявилась найкращою у вашому дослідженні на періоді 1 рік з передбаченнями на 1 місяць щоразу. Візуалізуйте як поводилась модель протягом бектесту, яка була точність?"
      ],
      "metadata": {
        "id": "oYylvI5BGazj"
      }
    },
    {
      "cell_type": "code",
      "source": [
        "start_point = pd.Timestamp('2017-01-01')"
      ],
      "metadata": {
        "id": "VzAaV0-qKu7F"
      },
      "execution_count": null,
      "outputs": []
    },
    {
      "cell_type": "code",
      "source": [
        "historical_forecasts = prophet_model.historical_forecasts(\n",
        "    series=series,\n",
        "    start=start_point,\n",
        "    forecast_horizon=30,\n",
        "    stride=30,\n",
        "    retrain=True,\n",
        "    last_points_only=False,  # Зберігаємо всі прогнози\n",
        "    verbose=True\n",
        ")"
      ],
      "metadata": {
        "id": "AW5tCxWi4M81"
      },
      "execution_count": null,
      "outputs": []
    },
    {
      "cell_type": "code",
      "source": [
        "concatenated_forecasts = historical_forecasts[0]\n",
        "\n",
        "for i in range(1, len(historical_forecasts)):\n",
        "    concatenated_forecasts = concatenated_forecasts.append(historical_forecasts[i])\n",
        "\n",
        "actual_slice = series.slice(concatenated_forecasts.start_time(), concatenated_forecasts.end_time())"
      ],
      "metadata": {
        "id": "Chw6j3RD4TQt"
      },
      "execution_count": null,
      "outputs": []
    },
    {
      "cell_type": "code",
      "source": [
        "mape_error = mape(actual_slice, concatenated_forecasts)\n",
        "print(f\"Помилка MAPE за весь період бектесту (Prophet, historical_forecasts): {mape_error:.2f}%\")"
      ],
      "metadata": {
        "id": "hcJsGsuR4xU-"
      },
      "execution_count": null,
      "outputs": []
    },
    {
      "cell_type": "code",
      "source": [
        "plt.figure(figsize=(15, 7))\n",
        "\n",
        "train.tail(30).plot(label=\"Останні тренувальні дані\", color='black')\n",
        "\n",
        "val.plot(label=\"Валідаційні дані (справжні)\", color='blue', linewidth=2)\n",
        "concatenated_forecasts.plot(label=\"Прогноз за весь період бектесту (Prophet, historical_forecasts)\", color='magenta', linestyle='--', linewidth=2)\n",
        "\n",
        "plt.title('Прогнозування продажів за допомогою наївних моделей')\n",
        "plt.xlabel('Дата')\n",
        "plt.ylabel('Продажі')\n",
        "plt.legend()\n",
        "plt.grid(True, linestyle='--', alpha=0.6)\n",
        "plt.show()"
      ],
      "metadata": {
        "id": "PLhQpP5X43-Q"
      },
      "execution_count": null,
      "outputs": []
    },
    {
      "cell_type": "markdown",
      "source": [
        "Всю варіантивність не вгадали, але виглядає непогано!"
      ],
      "metadata": {
        "id": "0ai_ekpeJBAK"
      }
    },
    {
      "cell_type": "markdown",
      "source": [
        "17. На цьому етапі ви зрозуміли, як моделювати продажі одного айтему з 1 магазину. Як би ви підійшли до задачі прогнозування продажів в наступному місяці для кожного з 50 айтемів в кожному з 10 магазинів? Опишіть загальний підхід\n",
        "- яку модель ви б використали\n",
        "- скільки моделей ви б тренували\n",
        "- обгрунтуйте свій вибір."
      ],
      "metadata": {
        "id": "IteMLFv3JvMj"
      }
    },
    {
      "cell_type": "markdown",
      "source": [],
      "metadata": {
        "id": "0hFUpeUb5i2f"
      }
    },
    {
      "cell_type": "markdown",
      "source": [],
      "metadata": {
        "id": "9cmQS6dLLbQA"
      }
    }
  ]
}